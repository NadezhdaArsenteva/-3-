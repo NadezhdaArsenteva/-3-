{
  "nbformat": 4,
  "nbformat_minor": 0,
  "metadata": {
    "colab": {
      "provenance": [],
      "authorship_tag": "ABX9TyPoRFQRXe39X8ESzSXr3MQI",
      "include_colab_link": true
    },
    "kernelspec": {
      "name": "python3",
      "display_name": "Python 3"
    },
    "language_info": {
      "name": "python"
    }
  },
  "cells": [
    {
      "cell_type": "markdown",
      "metadata": {
        "id": "view-in-github",
        "colab_type": "text"
      },
      "source": [
        "<a href=\"https://colab.research.google.com/github/NadezhdaArsenteva/-3-/blob/main/Untitled11.ipynb\" target=\"_parent\"><img src=\"https://colab.research.google.com/assets/colab-badge.svg\" alt=\"Open In Colab\"/></a>"
      ]
    },
    {
      "cell_type": "markdown",
      "source": [
        "### 3. Модель для прогнозирования общей заболеваемости\n",
        "Модель для прогнозирования общей заболеваемости с использованием методов временных рядов и аналитики больших данных. Используются комбинация LSTM (для обработки временных рядов) и дополнительные методы для работы с заданными данными.\n",
        "\n",
        "Это комплексная модель для прогнозирования общей заболеваемости с использованием методов временных рядов и анализа больших данных.\n",
        "Краткое описание:\n",
        "\n",
        "\n",
        "1. Генерация синтетических данных (в реальном сценарии вы бы использовали настоящие большие данные).\n",
        "2. Анализ сезонности с использованием декомпозиции временного ряда.\n",
        "3. Подготовка данных, включая создание дополнительных временных признаков и кодирование категориальных переменных.\n",
        "4. Масштабирование признаков и создание последовательностей для LSTM.\n",
        "5. Создание и обучение модели LSTM с использованием ранней остановки для предотвращения переобучения.\n",
        "6. Оценка модели и визуализация результатов.\n",
        "7. Анализ важности признаков.\n",
        "8. Прогнозирование на будущие периоды.\n",
        "\n",
        "Важные моменты:\n",
        "\n",
        "1. В реальном сценарии вам нужно заменить сгенерированные данные на реальные  данные о заболеваемости и связанных факторах.\n",
        "\n",
        "2. Модель учитывает различные факторы, такие как регион, температура, влажность, плотность населения, а также временные характеристики (день недели, месяц, день года).\n",
        "\n",
        "3. Анализ сезонности помогает понять периодические паттерны в данных.\n",
        "\n",
        "4. Важность признаков позволяет определить, какие факторы наиболее сильно влияют на заболеваемость.\n",
        "\n",
        "5. Прогноз на будущие периоды демонстрирует, как модель может использоваться для планирования ресурсов здравоохранения."
      ],
      "metadata": {
        "id": "r09LC-87Qbuw"
      }
    },
    {
      "cell_type": "code",
      "execution_count": null,
      "metadata": {
        "id": "Eiy4RAkMQVVH"
      },
      "outputs": [],
      "source": [
        "import numpy as np\n",
        "import pandas as pd\n",
        "import matplotlib.pyplot as plt\n",
        "from sklearn.preprocessing import MinMaxScaler\n",
        "from sklearn.model_selection import train_test_split\n",
        "from tensorflow.keras.models import Sequential\n",
        "from tensorflow.keras.layers import LSTM, Dense, Dropout\n",
        "from tensorflow.keras.optimizers import Adam\n",
        "from tensorflow.keras.callbacks import EarlyStopping\n",
        "from statsmodels.tsa.seasonal import seasonal_decompose\n",
        "from sklearn.metrics import mean_squared_error, mean_absolute_error\n",
        "import seaborn as sns"
      ]
    },
    {
      "cell_type": "code",
      "source": [
        "# Функция для генерации синтетических данных (замените на реальные данные)\n",
        "def generate_synthetic_data(start_date, end_date, num_regions=5):\n",
        "    date_range = pd.date_range(start=start_date, end=end_date, freq='D')\n",
        "    data = []\n",
        "    for region in range(num_regions):\n",
        "        base = np.random.randint(50, 150)\n",
        "        trend = np.linspace(0, 20, len(date_range))\n",
        "        seasonality = 10 * np.sin(np.arange(len(date_range)) * (2 * np.pi / 365))\n",
        "        noise = np.random.normal(0, 5, len(date_range))\n",
        "        cases = base + trend + seasonality + noise\n",
        "        cases = np.maximum(cases, 0)  # Ensure non-negative values\n",
        "        region_data = pd.DataFrame({\n",
        "            'date': date_range,\n",
        "            'region': f'Region_{region}',\n",
        "            'cases': cases.astype(int),\n",
        "            'temperature': np.random.uniform(15, 30, len(date_range)),\n",
        "            'humidity': np.random.uniform(40, 80, len(date_range)),\n",
        "            'population_density': np.random.uniform(100, 1000, len(date_range))\n",
        "        })\n",
        "        data.append(region_data)\n",
        "    return pd.concat(data, ignore_index=True)"
      ],
      "metadata": {
        "id": "NwhTLsONR2H6"
      },
      "execution_count": null,
      "outputs": []
    },
    {
      "cell_type": "code",
      "source": [
        "# Генерация синтетических данных\n",
        "data = generate_synthetic_data('2018-01-01', '2023-12-31')"
      ],
      "metadata": {
        "id": "4fdSXvitR6NM"
      },
      "execution_count": null,
      "outputs": []
    },
    {
      "cell_type": "code",
      "source": [
        "# Подготовка данных\n",
        "data['date'] = pd.to_datetime(data['date'])\n",
        "data = data.sort_values('date')"
      ],
      "metadata": {
        "id": "bVT7-s5ZR-vU"
      },
      "execution_count": null,
      "outputs": []
    },
    {
      "cell_type": "code",
      "source": [
        "# Анализ сезонности\n",
        "region_0_data = data[data['region'] == 'Region_0'].set_index('date')['cases']\n",
        "decomposition = seasonal_decompose(region_0_data, model='additive', period=365)\n",
        "\n",
        "plt.figure(figsize=(12, 10))\n",
        "plt.subplot(411)\n",
        "plt.plot(decomposition.observed)\n",
        "plt.title('Observed')\n",
        "plt.subplot(412)\n",
        "plt.plot(decomposition.trend)\n",
        "plt.title('Trend')\n",
        "plt.subplot(413)\n",
        "plt.plot(decomposition.seasonal)\n",
        "plt.title('Seasonal')\n",
        "plt.subplot(414)\n",
        "plt.plot(decomposition.resid)\n",
        "plt.title('Residual')\n",
        "plt.tight_layout()\n",
        "plt.show()\n"
      ],
      "metadata": {
        "id": "Al2PaQeMSDWc"
      },
      "execution_count": null,
      "outputs": []
    },
    {
      "cell_type": "code",
      "source": [
        "# Подготовка признаков\n",
        "data['day_of_week'] = data['date'].dt.dayofweek\n",
        "data['month'] = data['date'].dt.month\n",
        "data['day_of_year'] = data['date'].dt.dayofyear\n"
      ],
      "metadata": {
        "id": "huohZ9N7SPga"
      },
      "execution_count": null,
      "outputs": []
    },
    {
      "cell_type": "code",
      "source": [
        "# Кодирование категориальных переменных\n",
        "data = pd.get_dummies(data, columns=['region'])\n"
      ],
      "metadata": {
        "id": "tgRuYHS1SS5f"
      },
      "execution_count": null,
      "outputs": []
    },
    {
      "cell_type": "code",
      "source": [
        "# Масштабирование числовых признаков\n",
        "scaler = MinMaxScaler()\n",
        "scaled_features = scaler.fit_transform(data[['cases', 'temperature', 'humidity', 'population_density',\n",
        "                                             'day_of_week', 'month', 'day_of_year']])"
      ],
      "metadata": {
        "id": "_MGykoKRSWuk"
      },
      "execution_count": null,
      "outputs": []
    },
    {
      "cell_type": "code",
      "source": [
        "# Подготовка последовательностей для LSTM\n",
        "def create_sequences(data, seq_length):\n",
        "    sequences = []\n",
        "    targets = []\n",
        "    for i in range(len(data) - seq_length):\n",
        "        seq = data[i:i+seq_length]\n",
        "        target = data[i+seq_length, 0]  # Прогнозируем только количество случаев\n",
        "        sequences.append(seq)\n",
        "        targets.append(target)\n",
        "    return np.array(sequences), np.array(targets)\n",
        "\n",
        "seq_length = 30  # Используем данные за 30 дней для прогноза\n",
        "X, y = create_sequences(scaled_features, seq_length)"
      ],
      "metadata": {
        "id": "180MaHAMSaoj"
      },
      "execution_count": null,
      "outputs": []
    },
    {
      "cell_type": "code",
      "source": [
        "# Разделение на обучающую и тестовую выборки\n",
        "X_train, X_test, y_train, y_test = train_test_split(X, y, test_size=0.2, random_state=42)"
      ],
      "metadata": {
        "id": "EjGymWLYSfi3"
      },
      "execution_count": null,
      "outputs": []
    },
    {
      "cell_type": "code",
      "source": [
        "# Создание модели LSTM\n",
        "model = Sequential([\n",
        "    LSTM(64, activation='relu', return_sequences=True, input_shape=(seq_length, X.shape[2])),\n",
        "    Dropout(0.2),\n",
        "    LSTM(32, activation='relu'),\n",
        "    Dropout(0.2),\n",
        "    Dense(16, activation='relu'),\n",
        "    Dense(1)\n",
        "])\n",
        "\n",
        "model.compile(optimizer=Adam(learning_rate=0.001), loss='mse')"
      ],
      "metadata": {
        "id": "R6klBlHOSjjH"
      },
      "execution_count": null,
      "outputs": []
    },
    {
      "cell_type": "code",
      "source": [
        "# Обучение модели с ранней остановкой\n",
        "early_stopping = EarlyStopping(monitor='val_loss', patience=10, restore_best_weights=True)\n",
        "history = model.fit(\n",
        "    X_train, y_train,\n",
        "    epochs=100,\n",
        "    batch_size=32,\n",
        "    validation_split=0.2,\n",
        "    callbacks=[early_stopping],\n",
        "    verbose=1\n",
        ")"
      ],
      "metadata": {
        "id": "boPL_ZJaSnXh"
      },
      "execution_count": null,
      "outputs": []
    },
    {
      "cell_type": "code",
      "source": [
        "# Оценка модели\n",
        "train_loss = model.evaluate(X_train, y_train, verbose=0)\n",
        "test_loss = model.evaluate(X_test, y_test, verbose=0)\n",
        "print(f'MSE на обучающих данных: {train_loss:.4f}')\n",
        "print(f'MSE на тестовых данных: {test_loss:.4f}')\n"
      ],
      "metadata": {
        "id": "5pWX_0GcSrB_"
      },
      "execution_count": null,
      "outputs": []
    },
    {
      "cell_type": "code",
      "source": [
        "# Визуализация процесса обучения\n",
        "plt.figure(figsize=(12, 6))\n",
        "plt.plot(history.history['loss'], label='train')\n",
        "plt.plot(history.history['val_loss'], label='validation')\n",
        "plt.title('Ошибка модели')\n",
        "plt.xlabel('Эпоха')\n",
        "plt.ylabel('Mean Squared Error')\n",
        "plt.legend()\n",
        "plt.show()"
      ],
      "metadata": {
        "id": "c1WRLLTpSvm6"
      },
      "execution_count": null,
      "outputs": []
    },
    {
      "cell_type": "code",
      "source": [
        "# Прогнозирование\n",
        "y_pred = model.predict(X_test)"
      ],
      "metadata": {
        "id": "MeFuFEgES0UH"
      },
      "execution_count": null,
      "outputs": []
    },
    {
      "cell_type": "code",
      "source": [
        "# Обратное преобразование\n",
        "y_test_inv = scaler.inverse_transform(np.column_stack((y_test, np.zeros((len(y_test), X.shape[2]-1)))))[0]\n",
        "y_pred_inv = scaler.inverse_transform(np.column_stack((y_pred, np.zeros((len(y_pred), X.shape[2]-1)))))[0]\n"
      ],
      "metadata": {
        "id": "GXbvtTofS4YM"
      },
      "execution_count": null,
      "outputs": []
    },
    {
      "cell_type": "code",
      "source": [
        "# Расчет метрик\n",
        "mse = mean_squared_error(y_test_inv, y_pred_inv)\n",
        "mae = mean_absolute_error(y_test_inv, y_pred_inv)\n",
        "print(f'Mean Squared Error: {mse:.2f}')\n",
        "print(f'Mean Absolute Error: {mae:.2f}')"
      ],
      "metadata": {
        "id": "KMsH957bTAd6"
      },
      "execution_count": null,
      "outputs": []
    },
    {
      "cell_type": "code",
      "source": [
        "# Визуализация прогнозов\n",
        "plt.figure(figsize=(12, 6))\n",
        "plt.plot(y_test_inv, label='Фактические данные')\n",
        "plt.plot(y_pred_inv, label='Прогноз')\n",
        "plt.title('Прогноз заболеваемости')\n",
        "plt.xlabel('Дни')\n",
        "plt.ylabel('Количество случаев')\n",
        "plt.legend()\n",
        "plt.show()"
      ],
      "metadata": {
        "id": "LgnZNbK_TEPs"
      },
      "execution_count": null,
      "outputs": []
    },
    {
      "cell_type": "code",
      "source": [
        "# Анализ важности признаков\n",
        "feature_importance = np.abs(model.layers[0].get_weights()[0]).mean(axis=1)\n",
        "feature_names = ['cases', 'temperature', 'humidity', 'population_density',\n",
        "                 'day_of_week', 'month', 'day_of_year'] + [col for col in data.columns if col.startswith('region_')]\n",
        "\n",
        "plt.figure(figsize=(10, 6))\n",
        "sns.barplot(x=feature_importance, y=feature_names)\n",
        "plt.title('Важность признаков')\n",
        "plt.xlabel('Средняя абсолютная важность')\n",
        "plt.tight_layout()\n",
        "plt.show()\n",
        "\n",
        "# Прогноз на следующие 30 дней\n",
        "last_sequence = scaled_features[-seq_length:]\n",
        "future_predictions = []\n",
        "\n",
        "for _ in range(30):\n",
        "    next_pred = model.predict(last_sequence.reshape(1, seq_length, -1))\n",
        "    future_predictions.append(next_pred[0, 0])\n",
        "    last_sequence = np.roll(last_sequence, -1, axis=0)\n",
        "    last_sequence[-1, 0] = next_pred[0, 0]\n",
        "\n",
        "future_predictions = scaler.inverse_transform(np.column_stack((future_predictions, np.zeros((len(future_predictions), X.shape[2]-1)))))[0]\n",
        "\n",
        "plt.figure(figsize=(12, 6))\n",
        "plt.plot(range(len(y_test_inv)), y_test_inv, label='Исторические данные')\n",
        "plt.plot(range(len(y_test_inv), len(y_test_inv) + 30), future_predictions, label='Прогноз на 30 дней')\n",
        "plt.title('Прогноз заболеваемости на следующие 30 дней')\n",
        "plt.xlabel('Дни')\n",
        "plt.ylabel('Количество случаев')\n",
        "plt.legend()\n",
        "plt.show()"
      ],
      "metadata": {
        "id": "OtDDcMcyTJOH"
      },
      "execution_count": null,
      "outputs": []
    }
  ]
}