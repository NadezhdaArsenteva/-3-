{
  "nbformat": 4,
  "nbformat_minor": 0,
  "metadata": {
    "colab": {
      "provenance": [],
      "authorship_tag": "ABX9TyOZu9nLtzoTMzvJD0XPEnjD",
      "include_colab_link": true
    },
    "kernelspec": {
      "name": "python3",
      "display_name": "Python 3"
    },
    "language_info": {
      "name": "python"
    }
  },
  "cells": [
    {
      "cell_type": "markdown",
      "metadata": {
        "id": "view-in-github",
        "colab_type": "text"
      },
      "source": [
        "<a href=\"https://colab.research.google.com/github/NadezhdaArsenteva/-3-/blob/main/Untitled10.ipynb\" target=\"_parent\"><img src=\"https://colab.research.google.com/assets/colab-badge.svg\" alt=\"Open In Colab\"/></a>"
      ]
    },
    {
      "cell_type": "markdown",
      "source": [
        "# 2. Модель для планирования ресурсов здравоохранения\n",
        "Модель нейронной сети с применением LSTM для планирования ресурсов здравоохранения. LSTM особенно хорошо подходит для работы с временными рядами, что может быть полезно при прогнозировании потребностей в ресурсах здравоохранения.\n",
        "Модель LSTM для прогнозирования ресурсов здравоохранения. Вот краткое описание основных шагов:\n",
        "\n",
        "Генерация примерных данных (заменить на реальные данные).\n",
        "Подготовка данных, включая масштабирование и постоянное создание.\n",
        "Разделение данных на обучающую и тестовую выборки.\n",
        "Создание и обучение моделей LSTM.\n",
        "Оценка производительности модели.\n",
        "Предварительный просмотр процесса обучения.\n",
        "Прогнозирование на следующий день.\n",
        "Предварительный просмотр прогнозов для каждой переменной.\n",
        "\n",
        "Эта модель прогнозирует три переменных: количество пациентов, персонала и коек. Она использует данные за последние 30 дней для прогноза на следующий день.\n",
        "Важные моменты:\n",
        "\n",
        "На первом этапе вам необходимо заменить сгенерированные данные на реальные исторические данные из ресурсов здравоохранения.\n",
        "Возможно, потребуется настройка гиперпараметров (например, количества эпох, размера батча, архитектуры сети) для оптимизации производительности модели.\n",
        "Возможно добавить дополнительные признаки, которые могут повлиять на потребности в учреждениях здравоохранения (например, сезонность, праздники, эпидемиологическая обстановка).\n",
        "Для более точных долгосрочных прогнозов могут потребоваться более сложные модели или дополнительные методы, такие как авторегрессия."
      ],
      "metadata": {
        "id": "Gl2eXQQeLMi6"
      }
    },
    {
      "cell_type": "code",
      "execution_count": null,
      "metadata": {
        "id": "nEvTxWUPLL8M"
      },
      "outputs": [],
      "source": [
        "import numpy as np\n",
        "import pandas as pd\n",
        "import matplotlib.pyplot as plt\n",
        "from sklearn.preprocessing import MinMaxScaler\n",
        "from sklearn.model_selection import train_test_split\n",
        "from tensorflow.keras.models import Sequential\n",
        "from tensorflow.keras.layers import LSTM, Dense, Dropout\n",
        "from tensorflow.keras.optimizers import Adam"
      ]
    },
    {
      "cell_type": "code",
      "source": [
        "\n",
        "# Генерация примерных данных (заменить на реальные данные)\n",
        "np.random.seed(42)\n",
        "dates = pd.date_range(start='2020-01-01', end='2023-12-31', freq='D')\n",
        "patients = np.random.randint(50, 150, size=len(dates))\n",
        "staff = np.random.randint(10, 30, size=len(dates))\n",
        "beds = np.random.randint(30, 70, size=len(dates))\n",
        "\n",
        "data = pd.DataFrame({\n",
        "    'date': dates,\n",
        "    'patients': patients,\n",
        "    'staff': staff,\n",
        "    'beds': beds\n",
        "})"
      ],
      "metadata": {
        "id": "ou4p6Lf9LPCr"
      },
      "execution_count": null,
      "outputs": []
    },
    {
      "cell_type": "code",
      "source": [
        "# Подготовка данных\n",
        "scaler = MinMaxScaler()\n",
        "scaled_data = scaler.fit_transform(data[['patients', 'staff', 'beds']])\n",
        "\n",
        "def create_sequences(data, seq_length):\n",
        "    sequences = []\n",
        "    targets = []\n",
        "    for i in range(len(data) - seq_length):\n",
        "        seq = data[i:i+seq_length]\n",
        "        target = data[i+seq_length]\n",
        "        sequences.append(seq)\n",
        "        targets.append(target)\n",
        "    return np.array(sequences), np.array(targets)\n",
        "\n",
        "seq_length = 30  # Используем данные за 30 дней для прогноза на следующий день\n",
        "X, y = create_sequences(scaled_data, seq_length)\n"
      ],
      "metadata": {
        "id": "CpL3x702LfPL"
      },
      "execution_count": null,
      "outputs": []
    },
    {
      "cell_type": "code",
      "source": [
        "# Разделение на обучающую и тестовую выборки\n",
        "X_train, X_test, y_train, y_test = train_test_split(X, y, test_size=0.2, random_state=42)\n",
        "\n",
        "# Создание модели LSTM\n",
        "model = Sequential([\n",
        "    LSTM(50, activation='relu', return_sequences=True, input_shape=(seq_length, 3)),\n",
        "    Dropout(0.2),\n",
        "    LSTM(50, activation='relu'),\n",
        "    Dropout(0.2),\n",
        "    Dense(3)\n",
        "])\n",
        "\n",
        "model.compile(optimizer=Adam(learning_rate=0.001), loss='mse')\n",
        "\n",
        "# Обучение модели\n",
        "history = model.fit(\n",
        "    X_train, y_train,\n",
        "    epochs=100,\n",
        "    batch_size=32,\n",
        "    validation_split=0.2,\n",
        "    verbose=1\n",
        ")"
      ],
      "metadata": {
        "id": "l0y4bCKfLtat"
      },
      "execution_count": null,
      "outputs": []
    },
    {
      "cell_type": "code",
      "source": [
        "# Оценка модели\n",
        "loss = model.evaluate(X_test, y_test)\n",
        "print(f'Ошибка на тестовых данных (MSE): {loss:.4f}')\n",
        "\n",
        "# Визуализация процесса обучения\n",
        "plt.figure(figsize=(12, 6))\n",
        "plt.plot(history.history['loss'], label='train')\n",
        "plt.plot(history.history['val_loss'], label='validation')\n",
        "plt.title('Ошибка модели')\n",
        "plt.xlabel('Эпоха')\n",
        "plt.ylabel('Mean Squared Error')\n",
        "plt.legend()\n",
        "plt.show()\n"
      ],
      "metadata": {
        "id": "F6sGm42jL5xv"
      },
      "execution_count": null,
      "outputs": []
    },
    {
      "cell_type": "code",
      "source": [
        "# Прогнозирование\n",
        "last_sequence = scaled_data[-seq_length:]\n",
        "last_sequence = np.reshape(last_sequence, (1, seq_length, 3))\n",
        "next_day_prediction = model.predict(last_sequence)\n",
        "\n",
        "# Обратное преобразование прогноза\n",
        "next_day_prediction = scaler.inverse_transform(next_day_prediction)\n",
        "\n",
        "print(\"Прогноз на следующий день:\")\n",
        "print(f\"Пациенты: {next_day_prediction[0][0]:.0f}\")\n",
        "print(f\"Персонал: {next_day_prediction[0][1]:.0f}\")\n",
        "print(f\"Койки: {next_day_prediction[0][2]:.0f}\")\n",
        "\n",
        "# Визуализация прогнозов\n",
        "def plot_predictions(true_data, predictions, title):\n",
        "    plt.figure(figsize=(12, 6))\n",
        "    plt.plot(true_data, label='Фактические данные')\n",
        "    plt.plot(range(len(true_data)-len(predictions), len(true_data)), predictions, label='Прогноз')\n",
        "    plt.title(title)\n",
        "    plt.xlabel('Дни')\n",
        "    plt.ylabel('Значение')\n",
        "    plt.legend()\n",
        "    plt.show()\n",
        "\n",
        "# Получение прогнозов для тестовых данных\n",
        "test_predictions = model.predict(X_test)\n",
        "test_predictions = scaler.inverse_transform(test_predictions)\n",
        "true_values = scaler.inverse_transform(y_test)\n",
        "\n",
        "# Визуализация прогнозов для каждой переменной\n",
        "plot_predictions(data['patients'].values, test_predictions[:, 0], 'Прогноз количества пациентов')\n",
        "plot_predictions(data['staff'].values, test_predictions[:, 1], 'Прогноз количества персонала')\n",
        "plot_predictions(data['beds'].values, test_predictions[:, 2], 'Прогноз количества коек')"
      ],
      "metadata": {
        "id": "qER2zlpKMDIY"
      },
      "execution_count": null,
      "outputs": []
    }
  ]
}